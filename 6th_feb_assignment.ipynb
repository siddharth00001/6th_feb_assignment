{
 "cells": [
  {
   "cell_type": "markdown",
   "id": "34c1aaa6-3de2-4ad2-be3b-b7c2f1cd2b67",
   "metadata": {},
   "source": [
    "## Q1"
   ]
  },
  {
   "cell_type": "code",
   "execution_count": 23,
   "id": "21a9f93b-9ba4-4908-b974-dd714c937354",
   "metadata": {},
   "outputs": [],
   "source": [
    "list1 = [1,2,3,4, [44,55,66, True], False, (34,56,78,89,34), {1,2,3,3,2,1}, \n",
    "         {1:34, \"key2\": [55, 67, 78, 89], \n",
    "          4: (45,22, 61, 34)}, [56, 'data science'], 'Machine Learning']"
   ]
  },
  {
   "cell_type": "code",
   "execution_count": 2,
   "id": "538e1d18-10c6-4b8e-b23f-c24455f6269c",
   "metadata": {},
   "outputs": [],
   "source": [
    "from functools import reduce"
   ]
  },
  {
   "cell_type": "code",
   "execution_count": 3,
   "id": "d0bc5803-8465-49c7-8554-5fce21ccd5a9",
   "metadata": {},
   "outputs": [],
   "source": [
    "def retProdFromLi(li):\n",
    "    new_li = []\n",
    "    for x in list1:\n",
    "        if type(x) == int or type(x) == float:\n",
    "            new_li.append(x)\n",
    "        elif type(x) == list or type(x)==tuple or type(x)==set:\n",
    "            for j in x:\n",
    "                if type(j) == int or type(j) == float:\n",
    "                    new_li.append(j)\n",
    "        elif type(x)== dict:\n",
    "            for m in x.keys():\n",
    "                if type(m)==int or type(m)==float:\n",
    "                    new_li.append(m)\n",
    "            for c in x.values():\n",
    "                if type(c)==int or type(c)==float:\n",
    "                    new_li.append(c)\n",
    "                elif type(c) == tuple or type(c)==list:\n",
    "                    for l in c:\n",
    "                        if type(l) == int or type(l) == float:\n",
    "                            new_li.append(l)\n",
    "    a=reduce(lambda x,y :x*y,new_li )\n",
    "    return a\n",
    "                    "
   ]
  },
  {
   "cell_type": "code",
   "execution_count": 4,
   "id": "4556ec05-1545-40ff-9314-8ff1cdb3a416",
   "metadata": {},
   "outputs": [
    {
     "data": {
      "text/plain": [
       "4134711838987085478833841242112000"
      ]
     },
     "execution_count": 4,
     "metadata": {},
     "output_type": "execute_result"
    }
   ],
   "source": [
    "retProdFromLi(list1)"
   ]
  },
  {
   "cell_type": "markdown",
   "id": "7860625b-5f98-4174-af5f-3a53bef93542",
   "metadata": {},
   "source": [
    "## Q2"
   ]
  },
  {
   "cell_type": "code",
   "execution_count": 5,
   "id": "b00fbdd3-7862-4c70-a51a-c0dcc23f3383",
   "metadata": {},
   "outputs": [],
   "source": [
    "import string\n",
    "from functools import reduce\n",
    "l = list(string.ascii_lowercase)"
   ]
  },
  {
   "cell_type": "code",
   "execution_count": 6,
   "id": "5c8b1def-e5d4-486b-9be5-9ce02987f8d0",
   "metadata": {},
   "outputs": [],
   "source": [
    "d= dict()\n",
    "for j in range(len(l)):\n",
    "    d[l[j]] = l[-j-1]"
   ]
  },
  {
   "cell_type": "code",
   "execution_count": 7,
   "id": "370042eb-944a-4768-95a7-959bb87da227",
   "metadata": {},
   "outputs": [],
   "source": [
    "d.update({' ':'$'})"
   ]
  },
  {
   "cell_type": "code",
   "execution_count": 17,
   "id": "63534b35-57de-4a09-84bf-2115238a292b",
   "metadata": {},
   "outputs": [],
   "source": [
    "inpt = \"I want to become a Data Scientist.\"\n",
    "\n",
    "def encryptData(inpt):\n",
    "    st=\"\"\n",
    "    inpt= inpt.lower()\n",
    "    for x in range(len(inpt)):\n",
    "        if inpt[x] in d.keys():\n",
    "            st += d[inpt[x]]\n",
    "        else:\n",
    "            st+= inpt[x]\n",
    "    return st\n"
   ]
  },
  {
   "cell_type": "code",
   "execution_count": 20,
   "id": "25dab013-16c2-4b7a-9635-fec66403d070",
   "metadata": {},
   "outputs": [],
   "source": [
    "def encryptData2(inpt):\n",
    "    lis = list()\n",
    "    inpt = inpt.lower()\n",
    "    for x in range(len(inpt)):\n",
    "        if inpt[x] in d.keys():\n",
    "            lis.append(d[inpt[x]])\n",
    "        else:\n",
    "            lis.append(inpt[x])\n",
    "    # a = ''.join(lis)\n",
    "    a= reduce(lambda x,y: x+y,lis)\n",
    "    return a"
   ]
  },
  {
   "cell_type": "code",
   "execution_count": 21,
   "id": "509a6521-3243-41dc-b95c-0472f0dc6cef",
   "metadata": {},
   "outputs": [
    {
     "data": {
      "text/plain": [
       "'r$dzmg$gl$yvxlnv$z$wzgz$hxrvmgrhg.'"
      ]
     },
     "execution_count": 21,
     "metadata": {},
     "output_type": "execute_result"
    }
   ],
   "source": [
    "encryptData(inpt)"
   ]
  },
  {
   "cell_type": "code",
   "execution_count": 22,
   "id": "9916609c-d1d2-486d-b2ce-3c8467a98956",
   "metadata": {},
   "outputs": [
    {
     "data": {
      "text/plain": [
       "'r$dzmg$gl$yvxlnv$z$wzgz$hxrvmgrhg.'"
      ]
     },
     "execution_count": 22,
     "metadata": {},
     "output_type": "execute_result"
    }
   ],
   "source": [
    "encryptData2(inpt)"
   ]
  },
  {
   "cell_type": "code",
   "execution_count": null,
   "id": "aceb4834-8417-4961-ba77-3a5a3d2cf19d",
   "metadata": {},
   "outputs": [],
   "source": []
  }
 ],
 "metadata": {
  "kernelspec": {
   "display_name": "Python 3 (ipykernel)",
   "language": "python",
   "name": "python3"
  },
  "language_info": {
   "codemirror_mode": {
    "name": "ipython",
    "version": 3
   },
   "file_extension": ".py",
   "mimetype": "text/x-python",
   "name": "python",
   "nbconvert_exporter": "python",
   "pygments_lexer": "ipython3",
   "version": "3.10.8"
  }
 },
 "nbformat": 4,
 "nbformat_minor": 5
}
